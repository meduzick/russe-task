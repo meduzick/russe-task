{
  "nbformat": 4,
  "nbformat_minor": 0,
  "metadata": {
    "kernelspec": {
      "display_name": "Python 3",
      "language": "python",
      "name": "python3"
    },
    "language_info": {
      "codemirror_mode": {
        "name": "ipython",
        "version": 3
      },
      "file_extension": ".py",
      "mimetype": "text/x-python",
      "name": "python",
      "nbconvert_exporter": "python",
      "pygments_lexer": "ipython3",
      "version": "3.7.9"
    },
    "colab": {
      "name": "solution.ipynb",
      "provenance": [],
      "collapsed_sections": [
        "LPRrVPSUyk1w",
        "u88WI85p9cI7",
        "hr_lvltdyk2G",
        "g_2GXI_EjdxR",
        "FPcjRZs6ttoj"
      ]
    },
    "accelerator": "GPU",
    "widgets": {
      "application/vnd.jupyter.widget-state+json": {
        "d905c572b8b2482e8db933b7293b3af8": {
          "model_module": "@jupyter-widgets/controls",
          "model_name": "HBoxModel",
          "state": {
            "_view_name": "HBoxView",
            "_dom_classes": [],
            "_model_name": "HBoxModel",
            "_view_module": "@jupyter-widgets/controls",
            "_model_module_version": "1.5.0",
            "_view_count": null,
            "_view_module_version": "1.5.0",
            "box_style": "",
            "layout": "IPY_MODEL_3781fea54a364389a45b84162f0e3037",
            "_model_module": "@jupyter-widgets/controls",
            "children": [
              "IPY_MODEL_170ed402b2d34d4ba8adc47d55196ce0",
              "IPY_MODEL_8307ba476ccd416aa92a2a3a4d93b9c9"
            ]
          }
        },
        "3781fea54a364389a45b84162f0e3037": {
          "model_module": "@jupyter-widgets/base",
          "model_name": "LayoutModel",
          "state": {
            "_view_name": "LayoutView",
            "grid_template_rows": null,
            "right": null,
            "justify_content": null,
            "_view_module": "@jupyter-widgets/base",
            "overflow": null,
            "_model_module_version": "1.2.0",
            "_view_count": null,
            "flex_flow": null,
            "width": null,
            "min_width": null,
            "border": null,
            "align_items": null,
            "bottom": null,
            "_model_module": "@jupyter-widgets/base",
            "top": null,
            "grid_column": null,
            "overflow_y": null,
            "overflow_x": null,
            "grid_auto_flow": null,
            "grid_area": null,
            "grid_template_columns": null,
            "flex": null,
            "_model_name": "LayoutModel",
            "justify_items": null,
            "grid_row": null,
            "max_height": null,
            "align_content": null,
            "visibility": null,
            "align_self": null,
            "height": null,
            "min_height": null,
            "padding": null,
            "grid_auto_rows": null,
            "grid_gap": null,
            "max_width": null,
            "order": null,
            "_view_module_version": "1.2.0",
            "grid_template_areas": null,
            "object_position": null,
            "object_fit": null,
            "grid_auto_columns": null,
            "margin": null,
            "display": null,
            "left": null
          }
        },
        "170ed402b2d34d4ba8adc47d55196ce0": {
          "model_module": "@jupyter-widgets/controls",
          "model_name": "FloatProgressModel",
          "state": {
            "_view_name": "ProgressView",
            "style": "IPY_MODEL_2343e4e0d9364173b247150038e2da3b",
            "_dom_classes": [],
            "description": "100%",
            "_model_name": "FloatProgressModel",
            "bar_style": "success",
            "max": 58,
            "_view_module": "@jupyter-widgets/controls",
            "_model_module_version": "1.5.0",
            "value": 58,
            "_view_count": null,
            "_view_module_version": "1.5.0",
            "orientation": "horizontal",
            "min": 0,
            "description_tooltip": null,
            "_model_module": "@jupyter-widgets/controls",
            "layout": "IPY_MODEL_c64eac22148f4fd59220e90b4f4e46ee"
          }
        },
        "8307ba476ccd416aa92a2a3a4d93b9c9": {
          "model_module": "@jupyter-widgets/controls",
          "model_name": "HTMLModel",
          "state": {
            "_view_name": "HTMLView",
            "style": "IPY_MODEL_d6f67e2f86a945b1b904fac923f8f72a",
            "_dom_classes": [],
            "description": "",
            "_model_name": "HTMLModel",
            "placeholder": "​",
            "_view_module": "@jupyter-widgets/controls",
            "_model_module_version": "1.5.0",
            "value": " 58/58 [15:18&lt;00:00, 15.84s/it]",
            "_view_count": null,
            "_view_module_version": "1.5.0",
            "description_tooltip": null,
            "_model_module": "@jupyter-widgets/controls",
            "layout": "IPY_MODEL_3319bf4d730c4eecb3e3f8f9a6a02f27"
          }
        },
        "2343e4e0d9364173b247150038e2da3b": {
          "model_module": "@jupyter-widgets/controls",
          "model_name": "ProgressStyleModel",
          "state": {
            "_view_name": "StyleView",
            "_model_name": "ProgressStyleModel",
            "description_width": "initial",
            "_view_module": "@jupyter-widgets/base",
            "_model_module_version": "1.5.0",
            "_view_count": null,
            "_view_module_version": "1.2.0",
            "bar_color": null,
            "_model_module": "@jupyter-widgets/controls"
          }
        },
        "c64eac22148f4fd59220e90b4f4e46ee": {
          "model_module": "@jupyter-widgets/base",
          "model_name": "LayoutModel",
          "state": {
            "_view_name": "LayoutView",
            "grid_template_rows": null,
            "right": null,
            "justify_content": null,
            "_view_module": "@jupyter-widgets/base",
            "overflow": null,
            "_model_module_version": "1.2.0",
            "_view_count": null,
            "flex_flow": null,
            "width": null,
            "min_width": null,
            "border": null,
            "align_items": null,
            "bottom": null,
            "_model_module": "@jupyter-widgets/base",
            "top": null,
            "grid_column": null,
            "overflow_y": null,
            "overflow_x": null,
            "grid_auto_flow": null,
            "grid_area": null,
            "grid_template_columns": null,
            "flex": null,
            "_model_name": "LayoutModel",
            "justify_items": null,
            "grid_row": null,
            "max_height": null,
            "align_content": null,
            "visibility": null,
            "align_self": null,
            "height": null,
            "min_height": null,
            "padding": null,
            "grid_auto_rows": null,
            "grid_gap": null,
            "max_width": null,
            "order": null,
            "_view_module_version": "1.2.0",
            "grid_template_areas": null,
            "object_position": null,
            "object_fit": null,
            "grid_auto_columns": null,
            "margin": null,
            "display": null,
            "left": null
          }
        },
        "d6f67e2f86a945b1b904fac923f8f72a": {
          "model_module": "@jupyter-widgets/controls",
          "model_name": "DescriptionStyleModel",
          "state": {
            "_view_name": "StyleView",
            "_model_name": "DescriptionStyleModel",
            "description_width": "",
            "_view_module": "@jupyter-widgets/base",
            "_model_module_version": "1.5.0",
            "_view_count": null,
            "_view_module_version": "1.2.0",
            "_model_module": "@jupyter-widgets/controls"
          }
        },
        "3319bf4d730c4eecb3e3f8f9a6a02f27": {
          "model_module": "@jupyter-widgets/base",
          "model_name": "LayoutModel",
          "state": {
            "_view_name": "LayoutView",
            "grid_template_rows": null,
            "right": null,
            "justify_content": null,
            "_view_module": "@jupyter-widgets/base",
            "overflow": null,
            "_model_module_version": "1.2.0",
            "_view_count": null,
            "flex_flow": null,
            "width": null,
            "min_width": null,
            "border": null,
            "align_items": null,
            "bottom": null,
            "_model_module": "@jupyter-widgets/base",
            "top": null,
            "grid_column": null,
            "overflow_y": null,
            "overflow_x": null,
            "grid_auto_flow": null,
            "grid_area": null,
            "grid_template_columns": null,
            "flex": null,
            "_model_name": "LayoutModel",
            "justify_items": null,
            "grid_row": null,
            "max_height": null,
            "align_content": null,
            "visibility": null,
            "align_self": null,
            "height": null,
            "min_height": null,
            "padding": null,
            "grid_auto_rows": null,
            "grid_gap": null,
            "max_width": null,
            "order": null,
            "_view_module_version": "1.2.0",
            "grid_template_areas": null,
            "object_position": null,
            "object_fit": null,
            "grid_auto_columns": null,
            "margin": null,
            "display": null,
            "left": null
          }
        },
        "1738497b7f3e4d238400ddbd0b7282c8": {
          "model_module": "@jupyter-widgets/controls",
          "model_name": "HBoxModel",
          "state": {
            "_view_name": "HBoxView",
            "_dom_classes": [],
            "_model_name": "HBoxModel",
            "_view_module": "@jupyter-widgets/controls",
            "_model_module_version": "1.5.0",
            "_view_count": null,
            "_view_module_version": "1.5.0",
            "box_style": "",
            "layout": "IPY_MODEL_721be581f28b43bb9e59712113120d89",
            "_model_module": "@jupyter-widgets/controls",
            "children": [
              "IPY_MODEL_799e7eb4d6b2420898d66392df20289e",
              "IPY_MODEL_213aa33931ff479195dfa350ee8f9089"
            ]
          }
        },
        "721be581f28b43bb9e59712113120d89": {
          "model_module": "@jupyter-widgets/base",
          "model_name": "LayoutModel",
          "state": {
            "_view_name": "LayoutView",
            "grid_template_rows": null,
            "right": null,
            "justify_content": null,
            "_view_module": "@jupyter-widgets/base",
            "overflow": null,
            "_model_module_version": "1.2.0",
            "_view_count": null,
            "flex_flow": null,
            "width": null,
            "min_width": null,
            "border": null,
            "align_items": null,
            "bottom": null,
            "_model_module": "@jupyter-widgets/base",
            "top": null,
            "grid_column": null,
            "overflow_y": null,
            "overflow_x": null,
            "grid_auto_flow": null,
            "grid_area": null,
            "grid_template_columns": null,
            "flex": null,
            "_model_name": "LayoutModel",
            "justify_items": null,
            "grid_row": null,
            "max_height": null,
            "align_content": null,
            "visibility": null,
            "align_self": null,
            "height": null,
            "min_height": null,
            "padding": null,
            "grid_auto_rows": null,
            "grid_gap": null,
            "max_width": null,
            "order": null,
            "_view_module_version": "1.2.0",
            "grid_template_areas": null,
            "object_position": null,
            "object_fit": null,
            "grid_auto_columns": null,
            "margin": null,
            "display": null,
            "left": null
          }
        },
        "799e7eb4d6b2420898d66392df20289e": {
          "model_module": "@jupyter-widgets/controls",
          "model_name": "FloatProgressModel",
          "state": {
            "_view_name": "ProgressView",
            "style": "IPY_MODEL_a79b441b8f264f4f8a5e9d1cc633b3fe",
            "_dom_classes": [],
            "description": "100%",
            "_model_name": "FloatProgressModel",
            "bar_style": "success",
            "max": 58,
            "_view_module": "@jupyter-widgets/controls",
            "_model_module_version": "1.5.0",
            "value": 58,
            "_view_count": null,
            "_view_module_version": "1.5.0",
            "orientation": "horizontal",
            "min": 0,
            "description_tooltip": null,
            "_model_module": "@jupyter-widgets/controls",
            "layout": "IPY_MODEL_a7fc360533f24f9793c8b494f290c6d0"
          }
        },
        "213aa33931ff479195dfa350ee8f9089": {
          "model_module": "@jupyter-widgets/controls",
          "model_name": "HTMLModel",
          "state": {
            "_view_name": "HTMLView",
            "style": "IPY_MODEL_fbeba990244c4e26a1993cebbd2d61b9",
            "_dom_classes": [],
            "description": "",
            "_model_name": "HTMLModel",
            "placeholder": "​",
            "_view_module": "@jupyter-widgets/controls",
            "_model_module_version": "1.5.0",
            "value": " 58/58 [00:05&lt;00:00, 11.37it/s]",
            "_view_count": null,
            "_view_module_version": "1.5.0",
            "description_tooltip": null,
            "_model_module": "@jupyter-widgets/controls",
            "layout": "IPY_MODEL_bad446d733f94a24995e90ef8d3729e4"
          }
        },
        "a79b441b8f264f4f8a5e9d1cc633b3fe": {
          "model_module": "@jupyter-widgets/controls",
          "model_name": "ProgressStyleModel",
          "state": {
            "_view_name": "StyleView",
            "_model_name": "ProgressStyleModel",
            "description_width": "initial",
            "_view_module": "@jupyter-widgets/base",
            "_model_module_version": "1.5.0",
            "_view_count": null,
            "_view_module_version": "1.2.0",
            "bar_color": null,
            "_model_module": "@jupyter-widgets/controls"
          }
        },
        "a7fc360533f24f9793c8b494f290c6d0": {
          "model_module": "@jupyter-widgets/base",
          "model_name": "LayoutModel",
          "state": {
            "_view_name": "LayoutView",
            "grid_template_rows": null,
            "right": null,
            "justify_content": null,
            "_view_module": "@jupyter-widgets/base",
            "overflow": null,
            "_model_module_version": "1.2.0",
            "_view_count": null,
            "flex_flow": null,
            "width": null,
            "min_width": null,
            "border": null,
            "align_items": null,
            "bottom": null,
            "_model_module": "@jupyter-widgets/base",
            "top": null,
            "grid_column": null,
            "overflow_y": null,
            "overflow_x": null,
            "grid_auto_flow": null,
            "grid_area": null,
            "grid_template_columns": null,
            "flex": null,
            "_model_name": "LayoutModel",
            "justify_items": null,
            "grid_row": null,
            "max_height": null,
            "align_content": null,
            "visibility": null,
            "align_self": null,
            "height": null,
            "min_height": null,
            "padding": null,
            "grid_auto_rows": null,
            "grid_gap": null,
            "max_width": null,
            "order": null,
            "_view_module_version": "1.2.0",
            "grid_template_areas": null,
            "object_position": null,
            "object_fit": null,
            "grid_auto_columns": null,
            "margin": null,
            "display": null,
            "left": null
          }
        },
        "fbeba990244c4e26a1993cebbd2d61b9": {
          "model_module": "@jupyter-widgets/controls",
          "model_name": "DescriptionStyleModel",
          "state": {
            "_view_name": "StyleView",
            "_model_name": "DescriptionStyleModel",
            "description_width": "",
            "_view_module": "@jupyter-widgets/base",
            "_model_module_version": "1.5.0",
            "_view_count": null,
            "_view_module_version": "1.2.0",
            "_model_module": "@jupyter-widgets/controls"
          }
        },
        "bad446d733f94a24995e90ef8d3729e4": {
          "model_module": "@jupyter-widgets/base",
          "model_name": "LayoutModel",
          "state": {
            "_view_name": "LayoutView",
            "grid_template_rows": null,
            "right": null,
            "justify_content": null,
            "_view_module": "@jupyter-widgets/base",
            "overflow": null,
            "_model_module_version": "1.2.0",
            "_view_count": null,
            "flex_flow": null,
            "width": null,
            "min_width": null,
            "border": null,
            "align_items": null,
            "bottom": null,
            "_model_module": "@jupyter-widgets/base",
            "top": null,
            "grid_column": null,
            "overflow_y": null,
            "overflow_x": null,
            "grid_auto_flow": null,
            "grid_area": null,
            "grid_template_columns": null,
            "flex": null,
            "_model_name": "LayoutModel",
            "justify_items": null,
            "grid_row": null,
            "max_height": null,
            "align_content": null,
            "visibility": null,
            "align_self": null,
            "height": null,
            "min_height": null,
            "padding": null,
            "grid_auto_rows": null,
            "grid_gap": null,
            "max_width": null,
            "order": null,
            "_view_module_version": "1.2.0",
            "grid_template_areas": null,
            "object_position": null,
            "object_fit": null,
            "grid_auto_columns": null,
            "margin": null,
            "display": null,
            "left": null
          }
        }
      }
    }
  },
  "cells": [
    {
      "cell_type": "markdown",
      "metadata": {
        "id": "LPRrVPSUyk1w"
      },
      "source": [
        "# Imports"
      ]
    },
    {
      "cell_type": "code",
      "metadata": {
        "id": "G1f2j-h2yvGJ"
      },
      "source": [
        "! pip install -q maru razdel simple-elmo"
      ],
      "execution_count": null,
      "outputs": []
    },
    {
      "cell_type": "code",
      "metadata": {
        "colab": {
          "base_uri": "https://localhost:8080/"
        },
        "id": "ixpY1V0rBLwu",
        "outputId": "c66298ab-53d6-424a-d444-9fb820ac7bcf"
      },
      "source": [
        "# If notebook is used in colab\r\n",
        "%tensorflow_version 1.x"
      ],
      "execution_count": 1,
      "outputs": [
        {
          "output_type": "stream",
          "text": [
            "TensorFlow 1.x selected.\n"
          ],
          "name": "stdout"
        }
      ]
    },
    {
      "cell_type": "code",
      "metadata": {
        "colab": {
          "base_uri": "https://localhost:8080/"
        },
        "id": "-TleE0jNyk2C",
        "outputId": "2eaf7106-8deb-48a4-814a-219e5305b15f"
      },
      "source": [
        "import zipfile\n",
        "import pickle\n",
        "import os\n",
        "import re\n",
        "\n",
        "import nltk\n",
        "import maru\n",
        "import razdel\n",
        "import pandas as pd\n",
        "import numpy as np\n",
        "import tensorflow as tf\n",
        "from math import ceil\n",
        "from os.path import join\n",
        "from collections import namedtuple\n",
        "from evaluate import evaluate\n",
        "from sklearn.decomposition import PCA\n",
        "from tqdm import tqdm_notebook as tqdm\n",
        "from nltk.corpus import stopwords\n",
        "nltk.download('stopwords')\n",
        "stopwords_set = set(stopwords.words('russian'))"
      ],
      "execution_count": 2,
      "outputs": [
        {
          "output_type": "stream",
          "text": [
            "[nltk_data] Downloading package stopwords to /root/nltk_data...\n",
            "[nltk_data]   Package stopwords is already up-to-date!\n"
          ],
          "name": "stderr"
        }
      ]
    },
    {
      "cell_type": "code",
      "metadata": {
        "id": "DDM3wXyME_r5"
      },
      "source": [
        "import input_pipeline\r\n",
        "import model \r\n",
        "import utils\r\n",
        "import preprocessor\r\n",
        "import loader\r\n",
        "import script"
      ],
      "execution_count": 3,
      "outputs": []
    },
    {
      "cell_type": "code",
      "metadata": {
        "id": "aFqPX72nAVaY"
      },
      "source": [
        "class HParams(namedtuple('hparams',\r\n",
        "                         ['num_units',\r\n",
        "                          'num_layers',\r\n",
        "                          'num_classes',\r\n",
        "                          'dropout_rate',\r\n",
        "                          'learning_rate',\r\n",
        "                          'batch_size',\r\n",
        "                          'num_epochs',\r\n",
        "                          'buffer_size',\r\n",
        "                          'num_steps_to_eval',\r\n",
        "                          'chkpts_dir'])):\r\n",
        "  pass\r\n",
        "\r\n",
        "hparams = HParams(num_units = 128,\r\n",
        "                  num_layers = 3,\r\n",
        "                  num_classes = 8,\r\n",
        "                  dropout_rate = 0.3,\r\n",
        "                  learning_rate = 3e-04,\r\n",
        "                  batch_size = 64,\r\n",
        "                  num_epochs = 20,\r\n",
        "                  buffer_size = 512,\r\n",
        "                  num_steps_to_eval = 10,\r\n",
        "                  chkpts_dir = './model/chkpts')"
      ],
      "execution_count": 4,
      "outputs": []
    },
    {
      "cell_type": "markdown",
      "metadata": {
        "id": "u88WI85p9cI7"
      },
      "source": [
        "# Load pretrained ELMo"
      ]
    },
    {
      "cell_type": "code",
      "metadata": {
        "id": "QMRlkhXT9efI"
      },
      "source": [
        "! wget http://vectors.nlpl.eu/repository/20/199.zip"
      ],
      "execution_count": null,
      "outputs": []
    },
    {
      "cell_type": "code",
      "metadata": {
        "id": "5N-lWnwz9jXC"
      },
      "source": [
        "! mkdir ./pretrained_models\r\n",
        "! mkdir ./pretrained_models/elmo\r\n",
        "! mv 199.zip ./pretrained_models/elmo"
      ],
      "execution_count": null,
      "outputs": []
    },
    {
      "cell_type": "code",
      "metadata": {
        "id": "n4Duig5O9jPo"
      },
      "source": [
        "zipped_file = zipfile.ZipFile('./pretrained_models/elmo/199.zip')\r\n",
        "zipped_file.extractall('./pretrained_models/elmo')"
      ],
      "execution_count": null,
      "outputs": []
    },
    {
      "cell_type": "markdown",
      "metadata": {
        "id": "hr_lvltdyk2G"
      },
      "source": [
        "# Data load"
      ]
    },
    {
      "cell_type": "code",
      "metadata": {
        "id": "C5lKYdKOg653"
      },
      "source": [
        "pattern = re.compile(r'[^а-яА-я0-9.,?!:; ё]')\r\n",
        "analyzer = maru.get_analyzer(tagger='linear')\r\n",
        "config = preprocessor.Config(regexp = pattern,\r\n",
        "                            stopwords = stopwords_set, \r\n",
        "                            analyzer = analyzer,\r\n",
        "                            with_pos_tag = False, \r\n",
        "                            remove_stop_words = False,\r\n",
        "                            lemmatize = True,\r\n",
        "                            tokenizer = razdel)\r\n",
        "pipeline = preprocessor.Preprocessor(config)\r\n",
        "\r\n",
        "pca_seq = PCA(n_components = 300)\r\n",
        "pca_query = PCA(n_components = 300)\r\n",
        "pca_cont = PCA(n_components = 300)"
      ],
      "execution_count": null,
      "outputs": []
    },
    {
      "cell_type": "code",
      "metadata": {
        "id": "A21mmM4Gyk2H"
      },
      "source": [
        "train = pd.read_csv('./data/train.tsv',\n",
        "                   sep = '\\t')\n",
        "\n",
        "test = pd.read_csv('./data/test.csv',\n",
        "                  sep = '\\t')\n"
      ],
      "execution_count": null,
      "outputs": []
    },
    {
      "cell_type": "code",
      "metadata": {
        "id": "l4WQF35hXLit"
      },
      "source": [
        "train_loader = loader.TrainLoader(pipeline, pca_seq, pca_query, pca_cont)\r\n",
        "train_q, train_c, train_s, train_lens, train_target = train_loader.load_dataset('./data/train.tsv', './pretrained_models/elmo')"
      ],
      "execution_count": null,
      "outputs": []
    },
    {
      "cell_type": "code",
      "metadata": {
        "id": "0cbcTFYXXsyX"
      },
      "source": [
        "dev_loader = loader.DevLoader(pipeline, train_loader.pca_seq, train_loader.pca_query, train_loader.pca_cont)\r\n",
        "dev_q, dev_c, dev_s, dev_lens, dev_target = dev_loader.load_dataset('./data/test.csv', './pretrained_models/elmo')"
      ],
      "execution_count": null,
      "outputs": []
    },
    {
      "cell_type": "code",
      "metadata": {
        "id": "GIhKVPDvrb-6"
      },
      "source": [
        "pickle.dump(train_loader.pca_seq, open('./data/pca_seq.p', 'wb'))\r\n",
        "pickle.dump(train_loader.pca_cont, open('./data/pca_cont.p', 'wb'))\r\n",
        "pickle.dump(train_loader.pca_query, open('./data/pca_query.p', 'wb'))"
      ],
      "execution_count": null,
      "outputs": []
    },
    {
      "cell_type": "markdown",
      "metadata": {
        "id": "g_2GXI_EjdxR"
      },
      "source": [
        "# Fit"
      ]
    },
    {
      "cell_type": "code",
      "metadata": {
        "id": "PYgwSuhQn5-1"
      },
      "source": [
        "pickle.dump(train_s, open('./data/train_seq.p', 'wb'))\r\n",
        "pickle.dump(dev_s, open('./data/test_seq.p', 'wb'))\r\n",
        "\r\n",
        "pickle.dump(train_q, open('./data/train_queries.p', 'wb'))\r\n",
        "pickle.dump(train_c, open('./data/train_contexts.p', 'wb'))\r\n",
        "\r\n",
        "pickle.dump(dev_q, open('./data/test_queries.p', 'wb'))\r\n",
        "pickle.dump(dev_c, open('./data/test_contexts.p', 'wb'))\r\n",
        "\r\n",
        "pickle.dump(train_target, open('./data/train_target.p', 'wb'))\r\n",
        "pickle.dump(dev_target, open('./data/test_target.p', 'wb'))\r\n",
        "\r\n",
        "pickle.dump(train_lens, open('./data/train_lens.p', 'wb'))\r\n",
        "pickle.dump(dev_lens, open('./data/test_lens.p', 'wb'))"
      ],
      "execution_count": null,
      "outputs": []
    },
    {
      "cell_type": "code",
      "metadata": {
        "id": "FSjzBMs30pUH"
      },
      "source": [
        "train_graph = tf.Graph()\r\n",
        "dev_graph = tf.Graph()\r\n",
        "\r\n",
        "train_session = tf.Session(graph = train_graph)\r\n",
        "dev_session = tf.Session(graph = dev_graph)\r\n",
        "\r\n",
        "train_files = input_pipeline.FileObj('./data/train_seq.p',\r\n",
        "                                    './data/train_queries.p',\r\n",
        "                                    './data/train_contexts.p',\r\n",
        "                                    './data/train_lens.p',\r\n",
        "                                    './data/train_target.p')\r\n",
        "dev_files = input_pipeline.FileObj('./data/test_seq.p',\r\n",
        "                                  './data/test_queries.p',\r\n",
        "                                  './data/test_contexts.p',\r\n",
        "                                  './data/test_lens.p',\r\n",
        "                                  './data/test_target.p')\r\n",
        "\r\n",
        "\r\n",
        "with train_graph.as_default():\r\n",
        "    train_iterator, train_total_num = input_pipeline.get_iterator(\r\n",
        "                                                  regime = 'TRAIN',\r\n",
        "                                                  buffer_size = hparams.buffer_size,\r\n",
        "                                                  num_epochs = hparams.num_epochs,\r\n",
        "                                                  batch_size = hparams.batch_size,\r\n",
        "                                                  filesobj = train_files)                    \r\n",
        "    train_model = model.Model(hparams,\r\n",
        "                              train_iterator,\r\n",
        "                              'TRAIN')\r\n",
        "    train_vars_init_op = tf.global_variables_initializer()    \r\n",
        "    tf.get_default_graph().finalize()\r\n",
        "    \r\n",
        "with dev_graph.as_default():\r\n",
        "    dev_iterator, dev_total_num = input_pipeline.get_iterator(\r\n",
        "                                                regime = 'DEV',\r\n",
        "                                                buffer_size = None,\r\n",
        "                                                num_epochs = 1,\r\n",
        "                                                batch_size = hparams.batch_size,\r\n",
        "                                                filesobj = dev_files)\r\n",
        "    dev_model = model.Model(hparams,\r\n",
        "                            dev_iterator,\r\n",
        "                            'DEV')    \r\n",
        "    tf.get_default_graph().finalize()"
      ],
      "execution_count": null,
      "outputs": []
    },
    {
      "cell_type": "code",
      "metadata": {
        "colab": {
          "base_uri": "https://localhost:8080/"
        },
        "id": "8YJbaKvP51p8",
        "outputId": "f80dd3ce-4ddc-4bbc-8a34-fc850565a81a"
      },
      "source": [
        "! rm -r './model'\r\n",
        "! rm -r './logs'"
      ],
      "execution_count": null,
      "outputs": [
        {
          "output_type": "stream",
          "text": [
            "rm: cannot remove './logs': No such file or directory\n"
          ],
          "name": "stdout"
        }
      ]
    },
    {
      "cell_type": "code",
      "metadata": {
        "id": "wHF6JN0v7FRH"
      },
      "source": [
        "train_steps = utils.count_num_steps(hparams.num_epochs,\r\n",
        "                                    train_total_num,\r\n",
        "                                    hparams.batch_size)\r\n",
        "eval_steps = utils.count_num_steps(1,\r\n",
        "                                  dev_total_num,\r\n",
        "                                  hparams.batch_size)\r\n",
        "eval_count = hparams.num_steps_to_eval\r\n",
        "\r\n",
        "train_session.run(train_iterator.initializer)\r\n",
        "train_session.run(train_vars_init_op)\r\n",
        "aris = []\r\n",
        "                \r\n",
        "with tqdm(total = train_steps) as prog:\r\n",
        "    for step in range(train_steps):\r\n",
        "        _, res = train_model.train(train_session)\r\n",
        "        if step % 20 == 0:\r\n",
        "          print('train loss at step {} = {}'.format(step, res.train_loss))\r\n",
        "        if step % eval_count == 0:\r\n",
        "            ari, current_path = utils.deval(\r\n",
        "                                  train_model,\r\n",
        "                                  train_session,\r\n",
        "                                  hparams.chkpts_dir,\r\n",
        "                                  step,\r\n",
        "                                  dev_model,\r\n",
        "                                  dev_session,\r\n",
        "                                  dev_iterator,\r\n",
        "                                  eval_steps,\r\n",
        "                                  test)\r\n",
        "            aris.append(ari)\r\n",
        "            if ari >= max(aris):\r\n",
        "              if step == 0:\r\n",
        "                os.system('mkdir ./model/best_shot/')\r\n",
        "              utils.clear_dir('./model/best_shot')\r\n",
        "              utils.copy_files(current_path)\r\n",
        "              best_shot_path = current_path   \r\n",
        "            print('eval ari at step {} = {}'.format(step, ari))\r\n",
        "        prog.update(1)         "
      ],
      "execution_count": null,
      "outputs": []
    },
    {
      "cell_type": "markdown",
      "metadata": {
        "id": "FPcjRZs6ttoj"
      },
      "source": [
        "# Evaluate with prepared data"
      ]
    },
    {
      "cell_type": "code",
      "metadata": {
        "colab": {
          "base_uri": "https://localhost:8080/",
          "height": 117,
          "referenced_widgets": [
            "d905c572b8b2482e8db933b7293b3af8",
            "3781fea54a364389a45b84162f0e3037",
            "170ed402b2d34d4ba8adc47d55196ce0",
            "8307ba476ccd416aa92a2a3a4d93b9c9",
            "2343e4e0d9364173b247150038e2da3b",
            "c64eac22148f4fd59220e90b4f4e46ee",
            "d6f67e2f86a945b1b904fac923f8f72a",
            "3319bf4d730c4eecb3e3f8f9a6a02f27"
          ]
        },
        "id": "NeMrGdMKctpP",
        "outputId": "b56cad15-bb65-45e3-b14c-aa60f006e692"
      },
      "source": [
        "script.run()"
      ],
      "execution_count": null,
      "outputs": [
        {
          "output_type": "stream",
          "text": [
            "INFO:tensorflow:Restoring parameters from ./best_shot/chkpts-130\n"
          ],
          "name": "stdout"
        },
        {
          "output_type": "stream",
          "text": [
            "2021-02-08 19:36:30,621 : INFO : Restoring parameters from ./best_shot/chkpts-130\n"
          ],
          "name": "stderr"
        },
        {
          "output_type": "display_data",
          "data": {
            "application/vnd.jupyter.widget-view+json": {
              "model_id": "d905c572b8b2482e8db933b7293b3af8",
              "version_minor": 0,
              "version_major": 2
            },
            "text/plain": [
              "HBox(children=(FloatProgress(value=0.0, max=58.0), HTML(value='')))"
            ]
          },
          "metadata": {
            "tags": []
          }
        },
        {
          "output_type": "stream",
          "text": [
            "\n",
            "score on the dev set = 0.15733293562616749\n"
          ],
          "name": "stdout"
        }
      ]
    },
    {
      "cell_type": "markdown",
      "metadata": {
        "id": "E2wUJrFMtxUw"
      },
      "source": [
        "# Evaluate from scratch"
      ]
    },
    {
      "cell_type": "code",
      "metadata": {
        "id": "fYqf_6fgqRJR"
      },
      "source": [
        "pattern = re.compile(r'[^а-яА-я0-9.,?!:; ё]')\r\n",
        "analyzer = maru.get_analyzer(tagger='linear')\r\n",
        "config = preprocessor.Config(regexp = pattern,\r\n",
        "                            stopwords = stopwords_set, \r\n",
        "                            analyzer = analyzer,\r\n",
        "                            with_pos_tag = False, \r\n",
        "                            remove_stop_words = False,\r\n",
        "                            lemmatize = True,\r\n",
        "                            tokenizer = razdel)\r\n",
        "pipeline = preprocessor.Preprocessor(config)\r\n",
        "\r\n",
        "pca_seq = pickle.load(open('./data/pca_seq.p', 'rb'))\r\n",
        "pca_cont = pickle.load(open('./data/pca_cont.p', 'rb'))\r\n",
        "pca_query = pickle.load(open('./data/pca_query.p', 'rb'))\r\n",
        "\r\n",
        "test = pd.read_csv('./data/test.csv',\r\n",
        "                  sep = '\\t')"
      ],
      "execution_count": 10,
      "outputs": []
    },
    {
      "cell_type": "code",
      "metadata": {
        "id": "dUG4ozc-sDoj"
      },
      "source": [
        "dev_loader = loader.DevLoader(pipeline, pca_seq, pca_query, pca_cont)\r\n",
        "dev_q, dev_c, dev_s, dev_lens, dev_target = dev_loader.load_dataset('./data/test.csv', './pretrained_models/elmo')"
      ],
      "execution_count": null,
      "outputs": []
    },
    {
      "cell_type": "code",
      "metadata": {
        "id": "QoRjm4issDjt"
      },
      "source": [
        "pickle.dump(dev_s, open('./data/test_seq.p', 'wb'))\r\n",
        "pickle.dump(dev_q, open('./data/test_queries.p', 'wb'))\r\n",
        "pickle.dump(dev_c, open('./data/test_contexts.p', 'wb'))\r\n",
        "pickle.dump(dev_target, open('./data/test_target.p', 'wb'))\r\n",
        "pickle.dump(dev_lens, open('./data/test_lens.p', 'wb'))"
      ],
      "execution_count": 7,
      "outputs": []
    },
    {
      "cell_type": "code",
      "metadata": {
        "id": "l3tVWGfRtGP9"
      },
      "source": [
        "dev_files = input_pipeline.FileObj('./data/test_seq.p',\r\n",
        "                                  './data/test_queries.p',\r\n",
        "                                  './data/test_contexts.p',\r\n",
        "                                  './data/test_lens.p',\r\n",
        "                                  './data/test_target.p')"
      ],
      "execution_count": 8,
      "outputs": []
    },
    {
      "cell_type": "code",
      "metadata": {
        "colab": {
          "base_uri": "https://localhost:8080/",
          "height": 117,
          "referenced_widgets": [
            "1738497b7f3e4d238400ddbd0b7282c8",
            "721be581f28b43bb9e59712113120d89",
            "799e7eb4d6b2420898d66392df20289e",
            "213aa33931ff479195dfa350ee8f9089",
            "a79b441b8f264f4f8a5e9d1cc633b3fe",
            "a7fc360533f24f9793c8b494f290c6d0",
            "fbeba990244c4e26a1993cebbd2d61b9",
            "bad446d733f94a24995e90ef8d3729e4"
          ]
        },
        "id": "5eMZi1qAs0R6",
        "outputId": "a608ebc5-23f3-4f36-ac0e-ccef450e2cd9"
      },
      "source": [
        "dev_graph = tf.Graph()\r\n",
        "        \r\n",
        "with dev_graph.as_default():\r\n",
        "    dev_iterator, dev_total_num = input_pipeline.get_iterator(\r\n",
        "                                              regime = 'DEV',\r\n",
        "                                              buffer_size = None,\r\n",
        "                                              num_epochs = 1,\r\n",
        "                                              batch_size = hparams.batch_size,\r\n",
        "                                              filesobj = dev_files)\r\n",
        "    dev_model = model.Model(hparams,\r\n",
        "                            dev_iterator,\r\n",
        "                            'DEV')    \r\n",
        "    tf.get_default_graph().finalize()\r\n",
        "\r\n",
        "dev_session = tf.Session(graph = dev_graph)\r\n",
        "eval_steps = utils.count_num_steps(1,\r\n",
        "                                  dev_total_num,\r\n",
        "                                  hparams.batch_size)\r\n",
        "ari = utils.eval_from_path('./best_shot/chkpts-130',\r\n",
        "                    dev_model,\r\n",
        "                    dev_session,\r\n",
        "                    dev_iterator,\r\n",
        "                    eval_steps,\r\n",
        "                    test)\r\n",
        "print('score on the dev set = {}'.format(ari))"
      ],
      "execution_count": 11,
      "outputs": [
        {
          "output_type": "stream",
          "text": [
            "INFO:tensorflow:Restoring parameters from ./best_shot/chkpts-130\n"
          ],
          "name": "stdout"
        },
        {
          "output_type": "stream",
          "text": [
            "2021-02-08 19:53:44,830 : INFO : Restoring parameters from ./best_shot/chkpts-130\n"
          ],
          "name": "stderr"
        },
        {
          "output_type": "display_data",
          "data": {
            "application/vnd.jupyter.widget-view+json": {
              "model_id": "1738497b7f3e4d238400ddbd0b7282c8",
              "version_minor": 0,
              "version_major": 2
            },
            "text/plain": [
              "HBox(children=(FloatProgress(value=0.0, max=58.0), HTML(value='')))"
            ]
          },
          "metadata": {
            "tags": []
          }
        },
        {
          "output_type": "stream",
          "text": [
            "\n",
            "score on the dev set = 0.15733293562616749\n"
          ],
          "name": "stdout"
        }
      ]
    },
    {
      "cell_type": "code",
      "metadata": {
        "id": "MQ3SZ7BKuUtL"
      },
      "source": [
        ""
      ],
      "execution_count": null,
      "outputs": []
    }
  ]
}