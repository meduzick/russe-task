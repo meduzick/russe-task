{
  "nbformat": 4,
  "nbformat_minor": 0,
  "metadata": {
    "kernelspec": {
      "display_name": "Python 3",
      "language": "python",
      "name": "python3"
    },
    "language_info": {
      "codemirror_mode": {
        "name": "ipython",
        "version": 3
      },
      "file_extension": ".py",
      "mimetype": "text/x-python",
      "name": "python",
      "nbconvert_exporter": "python",
      "pygments_lexer": "ipython3",
      "version": "3.7.9"
    },
    "colab": {
      "name": "solution.ipynb",
      "provenance": [],
      "collapsed_sections": [
        "LPRrVPSUyk1w"
      ]
    },
    "accelerator": "GPU",
    "widgets": {
      "application/vnd.jupyter.widget-state+json": {
        "6d888f2551404c6081109ace81d01156": {
          "model_module": "@jupyter-widgets/controls",
          "model_name": "HBoxModel",
          "state": {
            "_view_name": "HBoxView",
            "_dom_classes": [],
            "_model_name": "HBoxModel",
            "_view_module": "@jupyter-widgets/controls",
            "_model_module_version": "1.5.0",
            "_view_count": null,
            "_view_module_version": "1.5.0",
            "box_style": "",
            "layout": "IPY_MODEL_f221ff779f2a415a89676959d14af542",
            "_model_module": "@jupyter-widgets/controls",
            "children": [
              "IPY_MODEL_a017fe9e4db44d59b57c525e5c35f811",
              "IPY_MODEL_206c2ca7ed4547b39c61b195075848bf"
            ]
          }
        },
        "f221ff779f2a415a89676959d14af542": {
          "model_module": "@jupyter-widgets/base",
          "model_name": "LayoutModel",
          "state": {
            "_view_name": "LayoutView",
            "grid_template_rows": null,
            "right": null,
            "justify_content": null,
            "_view_module": "@jupyter-widgets/base",
            "overflow": null,
            "_model_module_version": "1.2.0",
            "_view_count": null,
            "flex_flow": null,
            "width": null,
            "min_width": null,
            "border": null,
            "align_items": null,
            "bottom": null,
            "_model_module": "@jupyter-widgets/base",
            "top": null,
            "grid_column": null,
            "overflow_y": null,
            "overflow_x": null,
            "grid_auto_flow": null,
            "grid_area": null,
            "grid_template_columns": null,
            "flex": null,
            "_model_name": "LayoutModel",
            "justify_items": null,
            "grid_row": null,
            "max_height": null,
            "align_content": null,
            "visibility": null,
            "align_self": null,
            "height": null,
            "min_height": null,
            "padding": null,
            "grid_auto_rows": null,
            "grid_gap": null,
            "max_width": null,
            "order": null,
            "_view_module_version": "1.2.0",
            "grid_template_areas": null,
            "object_position": null,
            "object_fit": null,
            "grid_auto_columns": null,
            "margin": null,
            "display": null,
            "left": null
          }
        },
        "a017fe9e4db44d59b57c525e5c35f811": {
          "model_module": "@jupyter-widgets/controls",
          "model_name": "FloatProgressModel",
          "state": {
            "_view_name": "ProgressView",
            "style": "IPY_MODEL_00eb5dc533004e82845154362892d247",
            "_dom_classes": [],
            "description": "100%",
            "_model_name": "FloatProgressModel",
            "bar_style": "success",
            "max": 58,
            "_view_module": "@jupyter-widgets/controls",
            "_model_module_version": "1.5.0",
            "value": 58,
            "_view_count": null,
            "_view_module_version": "1.5.0",
            "orientation": "horizontal",
            "min": 0,
            "description_tooltip": null,
            "_model_module": "@jupyter-widgets/controls",
            "layout": "IPY_MODEL_d4cb6f489f444191ab0d279b46fdc582"
          }
        },
        "206c2ca7ed4547b39c61b195075848bf": {
          "model_module": "@jupyter-widgets/controls",
          "model_name": "HTMLModel",
          "state": {
            "_view_name": "HTMLView",
            "style": "IPY_MODEL_6460f96e237d4c8085b0e3588a2905a7",
            "_dom_classes": [],
            "description": "",
            "_model_name": "HTMLModel",
            "placeholder": "​",
            "_view_module": "@jupyter-widgets/controls",
            "_model_module_version": "1.5.0",
            "value": " 58/58 [04:43&lt;00:00,  4.89s/it]",
            "_view_count": null,
            "_view_module_version": "1.5.0",
            "description_tooltip": null,
            "_model_module": "@jupyter-widgets/controls",
            "layout": "IPY_MODEL_11e35f7c6ef3484e9c1a849dc4171b2d"
          }
        },
        "00eb5dc533004e82845154362892d247": {
          "model_module": "@jupyter-widgets/controls",
          "model_name": "ProgressStyleModel",
          "state": {
            "_view_name": "StyleView",
            "_model_name": "ProgressStyleModel",
            "description_width": "initial",
            "_view_module": "@jupyter-widgets/base",
            "_model_module_version": "1.5.0",
            "_view_count": null,
            "_view_module_version": "1.2.0",
            "bar_color": null,
            "_model_module": "@jupyter-widgets/controls"
          }
        },
        "d4cb6f489f444191ab0d279b46fdc582": {
          "model_module": "@jupyter-widgets/base",
          "model_name": "LayoutModel",
          "state": {
            "_view_name": "LayoutView",
            "grid_template_rows": null,
            "right": null,
            "justify_content": null,
            "_view_module": "@jupyter-widgets/base",
            "overflow": null,
            "_model_module_version": "1.2.0",
            "_view_count": null,
            "flex_flow": null,
            "width": null,
            "min_width": null,
            "border": null,
            "align_items": null,
            "bottom": null,
            "_model_module": "@jupyter-widgets/base",
            "top": null,
            "grid_column": null,
            "overflow_y": null,
            "overflow_x": null,
            "grid_auto_flow": null,
            "grid_area": null,
            "grid_template_columns": null,
            "flex": null,
            "_model_name": "LayoutModel",
            "justify_items": null,
            "grid_row": null,
            "max_height": null,
            "align_content": null,
            "visibility": null,
            "align_self": null,
            "height": null,
            "min_height": null,
            "padding": null,
            "grid_auto_rows": null,
            "grid_gap": null,
            "max_width": null,
            "order": null,
            "_view_module_version": "1.2.0",
            "grid_template_areas": null,
            "object_position": null,
            "object_fit": null,
            "grid_auto_columns": null,
            "margin": null,
            "display": null,
            "left": null
          }
        },
        "6460f96e237d4c8085b0e3588a2905a7": {
          "model_module": "@jupyter-widgets/controls",
          "model_name": "DescriptionStyleModel",
          "state": {
            "_view_name": "StyleView",
            "_model_name": "DescriptionStyleModel",
            "description_width": "",
            "_view_module": "@jupyter-widgets/base",
            "_model_module_version": "1.5.0",
            "_view_count": null,
            "_view_module_version": "1.2.0",
            "_model_module": "@jupyter-widgets/controls"
          }
        },
        "11e35f7c6ef3484e9c1a849dc4171b2d": {
          "model_module": "@jupyter-widgets/base",
          "model_name": "LayoutModel",
          "state": {
            "_view_name": "LayoutView",
            "grid_template_rows": null,
            "right": null,
            "justify_content": null,
            "_view_module": "@jupyter-widgets/base",
            "overflow": null,
            "_model_module_version": "1.2.0",
            "_view_count": null,
            "flex_flow": null,
            "width": null,
            "min_width": null,
            "border": null,
            "align_items": null,
            "bottom": null,
            "_model_module": "@jupyter-widgets/base",
            "top": null,
            "grid_column": null,
            "overflow_y": null,
            "overflow_x": null,
            "grid_auto_flow": null,
            "grid_area": null,
            "grid_template_columns": null,
            "flex": null,
            "_model_name": "LayoutModel",
            "justify_items": null,
            "grid_row": null,
            "max_height": null,
            "align_content": null,
            "visibility": null,
            "align_self": null,
            "height": null,
            "min_height": null,
            "padding": null,
            "grid_auto_rows": null,
            "grid_gap": null,
            "max_width": null,
            "order": null,
            "_view_module_version": "1.2.0",
            "grid_template_areas": null,
            "object_position": null,
            "object_fit": null,
            "grid_auto_columns": null,
            "margin": null,
            "display": null,
            "left": null
          }
        },
        "23a30df3d02649a9ab867689544856af": {
          "model_module": "@jupyter-widgets/controls",
          "model_name": "HBoxModel",
          "state": {
            "_view_name": "HBoxView",
            "_dom_classes": [],
            "_model_name": "HBoxModel",
            "_view_module": "@jupyter-widgets/controls",
            "_model_module_version": "1.5.0",
            "_view_count": null,
            "_view_module_version": "1.5.0",
            "box_style": "",
            "layout": "IPY_MODEL_288a9852f14f4380a33d3cd302a985ce",
            "_model_module": "@jupyter-widgets/controls",
            "children": [
              "IPY_MODEL_b7d3205fc54846ae8942aa5c1778d7c9",
              "IPY_MODEL_f90a1d794e28475fbb6195d19cb038b8"
            ]
          }
        },
        "288a9852f14f4380a33d3cd302a985ce": {
          "model_module": "@jupyter-widgets/base",
          "model_name": "LayoutModel",
          "state": {
            "_view_name": "LayoutView",
            "grid_template_rows": null,
            "right": null,
            "justify_content": null,
            "_view_module": "@jupyter-widgets/base",
            "overflow": null,
            "_model_module_version": "1.2.0",
            "_view_count": null,
            "flex_flow": null,
            "width": null,
            "min_width": null,
            "border": null,
            "align_items": null,
            "bottom": null,
            "_model_module": "@jupyter-widgets/base",
            "top": null,
            "grid_column": null,
            "overflow_y": null,
            "overflow_x": null,
            "grid_auto_flow": null,
            "grid_area": null,
            "grid_template_columns": null,
            "flex": null,
            "_model_name": "LayoutModel",
            "justify_items": null,
            "grid_row": null,
            "max_height": null,
            "align_content": null,
            "visibility": null,
            "align_self": null,
            "height": null,
            "min_height": null,
            "padding": null,
            "grid_auto_rows": null,
            "grid_gap": null,
            "max_width": null,
            "order": null,
            "_view_module_version": "1.2.0",
            "grid_template_areas": null,
            "object_position": null,
            "object_fit": null,
            "grid_auto_columns": null,
            "margin": null,
            "display": null,
            "left": null
          }
        },
        "b7d3205fc54846ae8942aa5c1778d7c9": {
          "model_module": "@jupyter-widgets/controls",
          "model_name": "FloatProgressModel",
          "state": {
            "_view_name": "ProgressView",
            "style": "IPY_MODEL_9248c298222348328109452084cef086",
            "_dom_classes": [],
            "description": "100%",
            "_model_name": "FloatProgressModel",
            "bar_style": "success",
            "max": 58,
            "_view_module": "@jupyter-widgets/controls",
            "_model_module_version": "1.5.0",
            "value": 58,
            "_view_count": null,
            "_view_module_version": "1.5.0",
            "orientation": "horizontal",
            "min": 0,
            "description_tooltip": null,
            "_model_module": "@jupyter-widgets/controls",
            "layout": "IPY_MODEL_585184a5924c4782b36a51413d24b177"
          }
        },
        "f90a1d794e28475fbb6195d19cb038b8": {
          "model_module": "@jupyter-widgets/controls",
          "model_name": "HTMLModel",
          "state": {
            "_view_name": "HTMLView",
            "style": "IPY_MODEL_e695ce499d3043c883a61dc2c9df34dd",
            "_dom_classes": [],
            "description": "",
            "_model_name": "HTMLModel",
            "placeholder": "​",
            "_view_module": "@jupyter-widgets/controls",
            "_model_module_version": "1.5.0",
            "value": " 58/58 [04:11&lt;00:00,  4.34s/it]",
            "_view_count": null,
            "_view_module_version": "1.5.0",
            "description_tooltip": null,
            "_model_module": "@jupyter-widgets/controls",
            "layout": "IPY_MODEL_4f0bb8ebef3844df839f8afc3abb8d79"
          }
        },
        "9248c298222348328109452084cef086": {
          "model_module": "@jupyter-widgets/controls",
          "model_name": "ProgressStyleModel",
          "state": {
            "_view_name": "StyleView",
            "_model_name": "ProgressStyleModel",
            "description_width": "initial",
            "_view_module": "@jupyter-widgets/base",
            "_model_module_version": "1.5.0",
            "_view_count": null,
            "_view_module_version": "1.2.0",
            "bar_color": null,
            "_model_module": "@jupyter-widgets/controls"
          }
        },
        "585184a5924c4782b36a51413d24b177": {
          "model_module": "@jupyter-widgets/base",
          "model_name": "LayoutModel",
          "state": {
            "_view_name": "LayoutView",
            "grid_template_rows": null,
            "right": null,
            "justify_content": null,
            "_view_module": "@jupyter-widgets/base",
            "overflow": null,
            "_model_module_version": "1.2.0",
            "_view_count": null,
            "flex_flow": null,
            "width": null,
            "min_width": null,
            "border": null,
            "align_items": null,
            "bottom": null,
            "_model_module": "@jupyter-widgets/base",
            "top": null,
            "grid_column": null,
            "overflow_y": null,
            "overflow_x": null,
            "grid_auto_flow": null,
            "grid_area": null,
            "grid_template_columns": null,
            "flex": null,
            "_model_name": "LayoutModel",
            "justify_items": null,
            "grid_row": null,
            "max_height": null,
            "align_content": null,
            "visibility": null,
            "align_self": null,
            "height": null,
            "min_height": null,
            "padding": null,
            "grid_auto_rows": null,
            "grid_gap": null,
            "max_width": null,
            "order": null,
            "_view_module_version": "1.2.0",
            "grid_template_areas": null,
            "object_position": null,
            "object_fit": null,
            "grid_auto_columns": null,
            "margin": null,
            "display": null,
            "left": null
          }
        },
        "e695ce499d3043c883a61dc2c9df34dd": {
          "model_module": "@jupyter-widgets/controls",
          "model_name": "DescriptionStyleModel",
          "state": {
            "_view_name": "StyleView",
            "_model_name": "DescriptionStyleModel",
            "description_width": "",
            "_view_module": "@jupyter-widgets/base",
            "_model_module_version": "1.5.0",
            "_view_count": null,
            "_view_module_version": "1.2.0",
            "_model_module": "@jupyter-widgets/controls"
          }
        },
        "4f0bb8ebef3844df839f8afc3abb8d79": {
          "model_module": "@jupyter-widgets/base",
          "model_name": "LayoutModel",
          "state": {
            "_view_name": "LayoutView",
            "grid_template_rows": null,
            "right": null,
            "justify_content": null,
            "_view_module": "@jupyter-widgets/base",
            "overflow": null,
            "_model_module_version": "1.2.0",
            "_view_count": null,
            "flex_flow": null,
            "width": null,
            "min_width": null,
            "border": null,
            "align_items": null,
            "bottom": null,
            "_model_module": "@jupyter-widgets/base",
            "top": null,
            "grid_column": null,
            "overflow_y": null,
            "overflow_x": null,
            "grid_auto_flow": null,
            "grid_area": null,
            "grid_template_columns": null,
            "flex": null,
            "_model_name": "LayoutModel",
            "justify_items": null,
            "grid_row": null,
            "max_height": null,
            "align_content": null,
            "visibility": null,
            "align_self": null,
            "height": null,
            "min_height": null,
            "padding": null,
            "grid_auto_rows": null,
            "grid_gap": null,
            "max_width": null,
            "order": null,
            "_view_module_version": "1.2.0",
            "grid_template_areas": null,
            "object_position": null,
            "object_fit": null,
            "grid_auto_columns": null,
            "margin": null,
            "display": null,
            "left": null
          }
        }
      }
    }
  },
  "cells": [
    {
      "cell_type": "markdown",
      "metadata": {
        "id": "LPRrVPSUyk1w"
      },
      "source": [
        "# Imports"
      ]
    },
    {
      "cell_type": "code",
      "metadata": {
        "id": "G1f2j-h2yvGJ"
      },
      "source": [
        "! pip install -q maru razdel simple-elmo deeppavlov transformers sentence-transformers"
      ],
      "execution_count": 1,
      "outputs": []
    },
    {
      "cell_type": "code",
      "metadata": {
        "id": "xdHk8DrUC4PC"
      },
      "source": [
        "! pip install --upgrade transformers"
      ],
      "execution_count": null,
      "outputs": []
    },
    {
      "cell_type": "code",
      "metadata": {
        "colab": {
          "base_uri": "https://localhost:8080/"
        },
        "id": "ixpY1V0rBLwu",
        "outputId": "dcaed3df-3e76-440c-8d23-e774c236dd3c"
      },
      "source": [
        "%tensorflow_version 1.x"
      ],
      "execution_count": 1,
      "outputs": [
        {
          "output_type": "stream",
          "text": [
            "TensorFlow 1.x selected.\n"
          ],
          "name": "stdout"
        }
      ]
    },
    {
      "cell_type": "code",
      "metadata": {
        "colab": {
          "base_uri": "https://localhost:8080/"
        },
        "id": "-TleE0jNyk2C",
        "outputId": "34bd8b0e-7ef5-4766-a042-108d52528812"
      },
      "source": [
        "import pandas as pd\n",
        "import io\n",
        "import gzip\n",
        "import pathlib\n",
        "import urllib.request\n",
        "import zipfile\n",
        "import os\n",
        "import numpy as np\n",
        "import maru\n",
        "import razdel\n",
        "import re\n",
        "import nltk\n",
        "from nltk.corpus import stopwords\n",
        "nltk.download('stopwords')\n",
        "stopwords_set = set(stopwords.words('russian'))\n",
        "import pickle\n",
        "from scipy.stats import randint, uniform\n",
        "import zipfile\n",
        "from math import ceil\n",
        "from tqdm import tqdm_notebook as tqdm\n",
        "from os.path import join\n",
        "import pickle as p\n",
        "from collections import namedtuple\n",
        "\n",
        "\n",
        "import tensorflow as tf\n",
        "from gensim.models import KeyedVectors\n",
        "from sklearn.cluster import (KMeans, AffinityPropagation, AgglomerativeClustering,\n",
        "                            Birch, SpectralClustering)\n",
        "from sklearn.model_selection import ParameterSampler\n",
        "from sklearn.decomposition import PCA\n",
        "\n",
        "\n",
        "from evaluate import evaluate"
      ],
      "execution_count": 50,
      "outputs": [
        {
          "output_type": "stream",
          "text": [
            "[nltk_data] Downloading package stopwords to /root/nltk_data...\n",
            "[nltk_data]   Package stopwords is already up-to-date!\n"
          ],
          "name": "stderr"
        }
      ]
    },
    {
      "cell_type": "markdown",
      "metadata": {
        "id": "hr_lvltdyk2G"
      },
      "source": [
        "# Data load"
      ]
    },
    {
      "cell_type": "code",
      "metadata": {
        "id": "C5lKYdKOg653"
      },
      "source": [
        "from preprocessor import Preprocessor, Config\r\n",
        "from loader import TrainLoader, DevLoader\r\n",
        "\r\n",
        "pattern = re.compile(r'[^а-яА-я0-9.,?!:; ё]')\r\n",
        "analyzer = maru.get_analyzer(tagger='linear')\r\n",
        "config = Config(regexp = pattern,\r\n",
        "                 stopwords = stopwords_set, \r\n",
        "                 analyzer = analyzer,\r\n",
        "                 with_pos_tag = False, \r\n",
        "                 remove_stop_words = False,\r\n",
        "                 lemmatize = True,\r\n",
        "                 tokenizer = razdel)\r\n",
        "\r\n",
        "preprocessor = Preprocessor(config)\r\n",
        "\r\n",
        "pca_seq = PCA(n_components = 300)\r\n",
        "pca_query = PCA(n_components = 300)\r\n",
        "pca_cont = PCA(n_components = 300)"
      ],
      "execution_count": 125,
      "outputs": []
    },
    {
      "cell_type": "code",
      "metadata": {
        "id": "A21mmM4Gyk2H"
      },
      "source": [
        "train = pd.read_csv('./data/train.tsv',\n",
        "                   sep = '\\t')\n",
        "\n",
        "test = pd.read_csv('./data/test.csv',\n",
        "                  sep = '\\t')\n"
      ],
      "execution_count": 65,
      "outputs": []
    },
    {
      "cell_type": "code",
      "metadata": {
        "id": "l4WQF35hXLit"
      },
      "source": [
        "train_loader = TrainLoader(preprocessor, pca_seq, pca_query, pca_cont)\r\n",
        "train_q, train_c, train_s, train_lens, train_target = train_loader.load_dataset('./data/train.tsv', './pretrained_models/elmo')"
      ],
      "execution_count": 66,
      "outputs": []
    },
    {
      "cell_type": "code",
      "metadata": {
        "id": "0cbcTFYXXsyX"
      },
      "source": [
        "dev_loader = DevLoader(preprocessor, train_loader.pca_seq, train_loader.pca_query, train_loader.pca_cont)\r\n",
        "dev_q, dev_c, dev_s, dev_lens, dev_target = dev_loader.load_dataset('./data/test.csv', './pretrained_models/elmo')"
      ],
      "execution_count": 67,
      "outputs": []
    },
    {
      "cell_type": "code",
      "metadata": {
        "id": "GIhKVPDvrb-6"
      },
      "source": [
        "p.dump(train_loader.pca_seq, open('./data/pca_seq.p', 'wb'))\r\n",
        "p.dump(train_loader.pca_cont, open('./data/pca_cont.p', 'wb'))\r\n",
        "p.dump(train_loader.pca_query, open('./data/pca_query.p', 'wb'))"
      ],
      "execution_count": 124,
      "outputs": []
    },
    {
      "cell_type": "markdown",
      "metadata": {
        "id": "g_2GXI_EjdxR"
      },
      "source": [
        "# Fit"
      ]
    },
    {
      "cell_type": "code",
      "metadata": {
        "id": "PYgwSuhQn5-1"
      },
      "source": [
        "pickle.dump(train_s, open('./data/train_seq.p', 'wb'))\r\n",
        "pickle.dump(dev_s, open('./data/test_seq.p', 'wb'))\r\n",
        "\r\n",
        "pickle.dump(train_q, open('./data/train_queries.p', 'wb'))\r\n",
        "pickle.dump(train_c, open('./data/train_contexts.p', 'wb'))\r\n",
        "\r\n",
        "pickle.dump(dev_q, open('./data/test_queries.p', 'wb'))\r\n",
        "pickle.dump(dev_c, open('./data/test_contexts.p', 'wb'))\r\n",
        "\r\n",
        "pickle.dump(train_target, open('./data/train_target.p', 'wb'))\r\n",
        "pickle.dump(dev_target, open('./data/test_target.p', 'wb'))\r\n",
        "\r\n",
        "pickle.dump(train_lens, open('./data/train_lens.p', 'wb'))\r\n",
        "pickle.dump(dev_lens, open('./data/test_lens.p', 'wb'))"
      ],
      "execution_count": 80,
      "outputs": []
    },
    {
      "cell_type": "code",
      "metadata": {
        "id": "WMv8Avf6jfmP"
      },
      "source": [
        "from input_pipeline import get_iterator, FileObj\r\n",
        "from model import Model\r\n",
        "from utils import count_num_steps, deval, clear_dir, copy_files"
      ],
      "execution_count": 102,
      "outputs": []
    },
    {
      "cell_type": "code",
      "metadata": {
        "id": "cFzShO-8tsYX"
      },
      "source": [
        "class HParams(namedtuple('hparams',\r\n",
        "                         ['num_units',\r\n",
        "                          'num_layers',\r\n",
        "                          'num_classes',\r\n",
        "                          'dropout_rate',\r\n",
        "                          'learning_rate',\r\n",
        "                          'batch_size',\r\n",
        "                          'num_epochs',\r\n",
        "                          'buffer_size',\r\n",
        "                          'num_steps_to_eval',\r\n",
        "                          'chkpts_dir'])):\r\n",
        "  pass\r\n",
        "\r\n",
        "\r\n",
        "hparams = HParams(num_units = 128,\r\n",
        "                  num_layers = 3,\r\n",
        "                  num_classes = 8,\r\n",
        "                  dropout_rate = 0.3,\r\n",
        "                  learning_rate = 3e-04,\r\n",
        "                  batch_size = 64,\r\n",
        "                  num_epochs = 20,\r\n",
        "                  buffer_size = 512,\r\n",
        "                  num_steps_to_eval = 10,\r\n",
        "                  chkpts_dir = './model/chkpts')"
      ],
      "execution_count": 103,
      "outputs": []
    },
    {
      "cell_type": "code",
      "metadata": {
        "id": "FSjzBMs30pUH"
      },
      "source": [
        "### As was said earlier we use separate graphs and session\r\n",
        "### for training, evaluation \r\n",
        "\r\n",
        "train_graph = tf.Graph()\r\n",
        "dev_graph = tf.Graph()\r\n",
        "\r\n",
        "train_session = tf.Session(graph = train_graph)\r\n",
        "dev_session = tf.Session(graph = dev_graph)\r\n",
        "\r\n",
        "train_files = FileObj('./data/train_seq.p',\r\n",
        "                      './data/train_queries.p',\r\n",
        "                      './data/train_contexts.p',\r\n",
        "                      './data/train_lens.p',\r\n",
        "                      './data/train_target.p')\r\n",
        "dev_files = FileObj('./data/test_seq.p',\r\n",
        "                      './data/test_queries.p',\r\n",
        "                      './data/test_contexts.p',\r\n",
        "                      './data/test_lens.p',\r\n",
        "                      './data/test_target.p')\r\n",
        "\r\n",
        "\r\n",
        "with train_graph.as_default():\r\n",
        "    \r\n",
        "    train_iterator, train_total_num = get_iterator(regime = 'TRAIN',\r\n",
        "                                                  buffer_size = hparams.buffer_size,\r\n",
        "                                                  num_epochs = hparams.num_epochs,\r\n",
        "                                                  batch_size = hparams.batch_size,\r\n",
        "                                                   filesobj = train_files)\r\n",
        "                                      \r\n",
        "    train_model = Model(hparams,\r\n",
        "                        train_iterator,\r\n",
        "                        'TRAIN')\r\n",
        "    \r\n",
        "    train_vars_init_op = tf.global_variables_initializer()    \r\n",
        "    \r\n",
        "    tf.get_default_graph().finalize()\r\n",
        "    \r\n",
        "    \r\n",
        "with dev_graph.as_default():\r\n",
        "    \r\n",
        "    dev_iterator, dev_total_num = get_iterator(regime = 'DEV',\r\n",
        "                                              buffer_size = None,\r\n",
        "                                              num_epochs = 1,\r\n",
        "                                              batch_size = hparams.batch_size,\r\n",
        "                                               filesobj = dev_files)\r\n",
        "\r\n",
        "    dev_model = Model(hparams,\r\n",
        "                      dev_iterator,\r\n",
        "                      'DEV')    \r\n",
        "    \r\n",
        "    tf.get_default_graph().finalize()\r\n"
      ],
      "execution_count": 104,
      "outputs": []
    },
    {
      "cell_type": "code",
      "metadata": {
        "colab": {
          "base_uri": "https://localhost:8080/"
        },
        "id": "8YJbaKvP51p8",
        "outputId": "22f536d6-ec5c-437c-d469-c8f6478566d5"
      },
      "source": [
        "! rm -r './model'\r\n",
        "! rm -r './logs'"
      ],
      "execution_count": 105,
      "outputs": [
        {
          "output_type": "stream",
          "text": [
            "rm: cannot remove './model': No such file or directory\n",
            "rm: cannot remove './logs': No such file or directory\n"
          ],
          "name": "stdout"
        }
      ]
    },
    {
      "cell_type": "code",
      "metadata": {
        "id": "wHF6JN0v7FRH"
      },
      "source": [
        "train_steps = count_num_steps(hparams.num_epochs,\r\n",
        "                              train_total_num,\r\n",
        "                              hparams.batch_size)\r\n",
        "\r\n",
        "eval_steps = count_num_steps(1,\r\n",
        "                            dev_total_num,\r\n",
        "                            hparams.batch_size)\r\n",
        "\r\n",
        "eval_count = hparams.num_steps_to_eval\r\n",
        "\r\n",
        "\r\n",
        "train_session.run(train_iterator.initializer)\r\n",
        "\r\n",
        "train_session.run(train_vars_init_op)\r\n",
        "\r\n",
        "aris = []\r\n",
        "                \r\n",
        "\r\n",
        "with tqdm(total = train_steps) as prog:\r\n",
        "    for step in range(train_steps):\r\n",
        "        _, res = train_model.train(train_session)\r\n",
        "\r\n",
        "        if step % 20 == 0:\r\n",
        "          print('train loss at step {} = {}'.format(step, res.train_loss))\r\n",
        "        if step % eval_count == 0:\r\n",
        "            \r\n",
        "            ari, current_path = deval(\r\n",
        "                    train_model,\r\n",
        "                    train_session,\r\n",
        "                    hparams.chkpts_dir,\r\n",
        "                    step,\r\n",
        "                    dev_model,\r\n",
        "                    dev_session,\r\n",
        "                    dev_iterator,\r\n",
        "                    eval_steps,\r\n",
        "                    test)\r\n",
        "            aris.append(ari)\r\n",
        "\r\n",
        "            if ari >= max(aris):\r\n",
        "\r\n",
        "              if step == 0:\r\n",
        "\r\n",
        "                os.system('mkdir ./model/best_shot/')\r\n",
        "\r\n",
        "              clear_dir('./model/best_shot')\r\n",
        "\r\n",
        "              copy_files(current_path)\r\n",
        "\r\n",
        "              best_shot_path = current_path   \r\n",
        "            \r\n",
        "            print('eval ari at step {} = {}'.format(step, ari))\r\n",
        "        prog.update(1)         "
      ],
      "execution_count": null,
      "outputs": []
    },
    {
      "cell_type": "markdown",
      "metadata": {
        "id": "FPcjRZs6ttoj"
      },
      "source": [
        "# Evaluate with prepared data"
      ]
    },
    {
      "cell_type": "code",
      "metadata": {
        "id": "ZQotBh4kUMnD"
      },
      "source": [
        "from script import run"
      ],
      "execution_count": 121,
      "outputs": []
    },
    {
      "cell_type": "code",
      "metadata": {
        "colab": {
          "base_uri": "https://localhost:8080/",
          "height": 0,
          "referenced_widgets": [
            "6d888f2551404c6081109ace81d01156",
            "f221ff779f2a415a89676959d14af542",
            "a017fe9e4db44d59b57c525e5c35f811",
            "206c2ca7ed4547b39c61b195075848bf",
            "00eb5dc533004e82845154362892d247",
            "d4cb6f489f444191ab0d279b46fdc582",
            "6460f96e237d4c8085b0e3588a2905a7",
            "11e35f7c6ef3484e9c1a849dc4171b2d"
          ]
        },
        "id": "NeMrGdMKctpP",
        "outputId": "6c8de212-ccc8-4ce3-b977-8f2a540dea82"
      },
      "source": [
        "run()"
      ],
      "execution_count": 122,
      "outputs": [
        {
          "output_type": "stream",
          "text": [
            "INFO:tensorflow:Restoring parameters from ./best_shot/chkpts-130\n"
          ],
          "name": "stdout"
        },
        {
          "output_type": "stream",
          "text": [
            "2021-02-03 16:15:10,262 : INFO : Restoring parameters from ./best_shot/chkpts-130\n"
          ],
          "name": "stderr"
        },
        {
          "output_type": "display_data",
          "data": {
            "application/vnd.jupyter.widget-view+json": {
              "model_id": "6d888f2551404c6081109ace81d01156",
              "version_minor": 0,
              "version_major": 2
            },
            "text/plain": [
              "HBox(children=(FloatProgress(value=0.0, max=58.0), HTML(value='')))"
            ]
          },
          "metadata": {
            "tags": []
          }
        },
        {
          "output_type": "stream",
          "text": [
            "\n",
            "score on the dev set = 0.15733293562616749\n"
          ],
          "name": "stdout"
        }
      ]
    },
    {
      "cell_type": "markdown",
      "metadata": {
        "id": "E2wUJrFMtxUw"
      },
      "source": [
        "# Evaluate from scratch"
      ]
    },
    {
      "cell_type": "code",
      "metadata": {
        "id": "fYqf_6fgqRJR"
      },
      "source": [
        "pca_seq = p.load(open('./data/pca_seq.p', 'rb'))\r\n",
        "pca_cont = p.load(open('./data/pca_cont.p', 'rb'))\r\n",
        "pca_query = p.load(open('./data/pca_query.p', 'rb'))"
      ],
      "execution_count": 126,
      "outputs": []
    },
    {
      "cell_type": "code",
      "metadata": {
        "id": "dUG4ozc-sDoj"
      },
      "source": [
        "dev_loader = DevLoader(preprocessor, pca_seq, pca_query, pca_cont)\r\n",
        "dev_q, dev_c, dev_s, dev_lens, dev_target = dev_loader.load_dataset('./data/test.csv', './pretrained_models/elmo')"
      ],
      "execution_count": null,
      "outputs": []
    },
    {
      "cell_type": "code",
      "metadata": {
        "id": "-DlXz3soss1P"
      },
      "source": [
        "! mkdir ./data1"
      ],
      "execution_count": 129,
      "outputs": []
    },
    {
      "cell_type": "code",
      "metadata": {
        "id": "QoRjm4issDjt"
      },
      "source": [
        "pickle.dump(dev_s, open('./data1/test_seq.p', 'wb'))\r\n",
        "\r\n",
        "pickle.dump(dev_q, open('./data1/test_queries.p', 'wb'))\r\n",
        "pickle.dump(dev_c, open('./data1/test_contexts.p', 'wb'))\r\n",
        "\r\n",
        "pickle.dump(dev_target, open('./data1/test_target.p', 'wb'))\r\n",
        "\r\n",
        "pickle.dump(dev_lens, open('./data1/test_lens.p', 'wb'))"
      ],
      "execution_count": 130,
      "outputs": []
    },
    {
      "cell_type": "code",
      "metadata": {
        "id": "l3tVWGfRtGP9"
      },
      "source": [
        "dev_files = FileObj('./data1/test_seq.p',\r\n",
        "                      './data1/test_queries.p',\r\n",
        "                      './data1/test_contexts.p',\r\n",
        "                      './data1/test_lens.p',\r\n",
        "                      './data1/test_target.p')"
      ],
      "execution_count": 132,
      "outputs": []
    },
    {
      "cell_type": "code",
      "metadata": {
        "id": "Zn9KPEhxsrga"
      },
      "source": [
        "from input_pipeline import get_iterator, FileObj\r\n",
        "from model import Model\r\n",
        "from utils import count_num_steps, deval, clear_dir, copy_files, eval_from_path"
      ],
      "execution_count": 135,
      "outputs": []
    },
    {
      "cell_type": "code",
      "metadata": {
        "colab": {
          "base_uri": "https://localhost:8080/",
          "height": 117,
          "referenced_widgets": [
            "23a30df3d02649a9ab867689544856af",
            "288a9852f14f4380a33d3cd302a985ce",
            "b7d3205fc54846ae8942aa5c1778d7c9",
            "f90a1d794e28475fbb6195d19cb038b8",
            "9248c298222348328109452084cef086",
            "585184a5924c4782b36a51413d24b177",
            "e695ce499d3043c883a61dc2c9df34dd",
            "4f0bb8ebef3844df839f8afc3abb8d79"
          ]
        },
        "id": "5eMZi1qAs0R6",
        "outputId": "cd39ca90-1236-4d18-f1a8-be21b6acd11a"
      },
      "source": [
        "dev_graph = tf.Graph()\r\n",
        "        \r\n",
        "with dev_graph.as_default():\r\n",
        "    \r\n",
        "    dev_iterator, dev_total_num = get_iterator(regime = 'DEV',\r\n",
        "                                              buffer_size = None,\r\n",
        "                                              num_epochs = 1,\r\n",
        "                                              batch_size = hparams.batch_size,\r\n",
        "                                                filesobj = dev_files)\r\n",
        "\r\n",
        "    dev_model = Model(hparams,\r\n",
        "                      dev_iterator,\r\n",
        "                      'DEV')    \r\n",
        "    \r\n",
        "    tf.get_default_graph().finalize()\r\n",
        "\r\n",
        "dev_session = tf.Session(graph = dev_graph)\r\n",
        "\r\n",
        "eval_steps = count_num_steps(1,\r\n",
        "                            dev_total_num,\r\n",
        "                            hparams.batch_size)\r\n",
        "\r\n",
        "ari = eval_from_path('./best_shot/chkpts-130',\r\n",
        "                dev_model,\r\n",
        "                dev_session,\r\n",
        "                dev_iterator,\r\n",
        "                eval_steps,\r\n",
        "                test\r\n",
        "                )\r\n",
        "print('score on the dev set = {}'.format(ari))"
      ],
      "execution_count": 136,
      "outputs": [
        {
          "output_type": "stream",
          "text": [
            "INFO:tensorflow:Restoring parameters from ./best_shot/chkpts-130\n"
          ],
          "name": "stdout"
        },
        {
          "output_type": "stream",
          "text": [
            "2021-02-03 16:23:48,009 : INFO : Restoring parameters from ./best_shot/chkpts-130\n"
          ],
          "name": "stderr"
        },
        {
          "output_type": "display_data",
          "data": {
            "application/vnd.jupyter.widget-view+json": {
              "model_id": "23a30df3d02649a9ab867689544856af",
              "version_minor": 0,
              "version_major": 2
            },
            "text/plain": [
              "HBox(children=(FloatProgress(value=0.0, max=58.0), HTML(value='')))"
            ]
          },
          "metadata": {
            "tags": []
          }
        },
        {
          "output_type": "stream",
          "text": [
            "\n",
            "score on the dev set = 0.15733293562616749\n"
          ],
          "name": "stdout"
        }
      ]
    },
    {
      "cell_type": "code",
      "metadata": {
        "id": "HLyrTVYTtJQE"
      },
      "source": [
        "! cp -R ./data ./gdrive/MyDrive/russe/"
      ],
      "execution_count": 137,
      "outputs": []
    },
    {
      "cell_type": "code",
      "metadata": {
        "id": "MQ3SZ7BKuUtL"
      },
      "source": [
        ""
      ],
      "execution_count": null,
      "outputs": []
    }
  ]
}